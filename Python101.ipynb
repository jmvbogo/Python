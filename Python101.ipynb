{
 "cells": [
  {
   "cell_type": "code",
   "execution_count": 1,
   "id": "54ca0cac-3c9b-4d7e-a783-0c34695e0863",
   "metadata": {},
   "outputs": [
    {
     "name": "stdout",
     "output_type": "stream",
     "text": [
      "Hello World!\n"
     ]
    }
   ],
   "source": [
    "#Hello World!\n",
    "\n",
    "print(\"Hello World!\")"
   ]
  },
  {
   "cell_type": "code",
   "execution_count": 2,
   "id": "f534e439-e098-4d6d-ac79-0c8348ae98ee",
   "metadata": {},
   "outputs": [],
   "source": [
    "#Creating Variables\n",
    "\n",
    "myNumber = 10\n",
    "myText = \"Hello\""
   ]
  },
  {
   "cell_type": "code",
   "execution_count": 3,
   "id": "e77e5794-de62-4a3b-a52c-a9adaf033d9f",
   "metadata": {},
   "outputs": [
    {
     "name": "stdout",
     "output_type": "stream",
     "text": [
      "10\n",
      "Hello\n"
     ]
    }
   ],
   "source": [
    "#Using Variables\n",
    "\n",
    "print(myNumber)\n",
    "print(myText)"
   ]
  },
  {
   "cell_type": "code",
   "execution_count": 4,
   "id": "bb7506e8-5ba4-40a8-b645-cdc0e408a042",
   "metadata": {},
   "outputs": [],
   "source": [
    "#Typecasting\n",
    "\n",
    "value = \"10\"\n",
    "number = int(value)"
   ]
  },
  {
   "cell_type": "code",
   "execution_count": 5,
   "id": "bc45ee06-d00d-4a56-9724-1a74e467487f",
   "metadata": {},
   "outputs": [
    {
     "name": "stdout",
     "output_type": "stream",
     "text": [
      "Addition: 20\n",
      "Subtraction: 8\n",
      "Multiplication: 8\n",
      "Division: 5.0\n",
      "Modules: 2\n",
      "Exponent: 100\n",
      "Floor Division: 1\n"
     ]
    }
   ],
   "source": [
    "#Arithmetic Operators\n",
    "\n",
    "addition = 10+10\n",
    "subtraction = 9-1\n",
    "multiplication = 2*4\n",
    "division = 10/2\n",
    "modules = 10%8\n",
    "exponent = 10**2\n",
    "floorDivision = 10//6\n",
    "\n",
    "print(\"Addition:\", addition)\n",
    "print(\"Subtraction:\",subtraction)\n",
    "print(\"Multiplication:\",multiplication)\n",
    "print(\"Division:\",division)\n",
    "print(\"Modules:\",modules)\n",
    "print(\"Exponent:\",exponent)\n",
    "print(\"Floor Division:\",floorDivision)\n"
   ]
  },
  {
   "cell_type": "code",
   "execution_count": 6,
   "id": "52175fbc-fa92-476c-9bf2-0288860544e2",
   "metadata": {},
   "outputs": [
    {
     "name": "stdout",
     "output_type": "stream",
     "text": [
      "0\n",
      "14\n",
      "7\n",
      "14\n",
      "7.0\n",
      "2.0\n",
      "32.0\n",
      "12.0\n"
     ]
    }
   ],
   "source": [
    "#Assignment Operators\n",
    "\n",
    "assign = 0\n",
    "print(assign)\n",
    "assign += 14\n",
    "print(assign)\n",
    "assign -= 7\n",
    "print(assign)\n",
    "assign *= 2\n",
    "print(assign)\n",
    "assign /= 2\n",
    "print(assign)\n",
    "assign %= 5\n",
    "print(assign)\n",
    "assign **= 5\n",
    "print(assign)\n",
    "assign //= 2.6\n",
    "print(assign)"
   ]
  },
  {
   "cell_type": "code",
   "execution_count": 7,
   "id": "05a8d6ba-fbe9-48cb-bf3c-acc430e51f30",
   "metadata": {},
   "outputs": [
    {
     "name": "stdout",
     "output_type": "stream",
     "text": [
      "False\n",
      "True\n",
      "True\n",
      "False\n",
      "True\n",
      "False\n",
      "False\n",
      "False\n",
      "True\n",
      "True\n",
      "True\n",
      "False\n"
     ]
    }
   ],
   "source": [
    "#Comparison Operators\n",
    "\n",
    "print(20==10)\n",
    "print(20==20)\n",
    "print(20!=10)\n",
    "print(20!=20)\n",
    "print(20>10)\n",
    "print(20>20)\n",
    "print(20<10)\n",
    "print(20<20)\n",
    "print(20>=20)\n",
    "print(20>=10)\n",
    "print(20<=20)\n",
    "print(20<=10)"
   ]
  },
  {
   "cell_type": "code",
   "execution_count": 8,
   "id": "687efbd3-78a2-4f6e-b10e-615d6d90f331",
   "metadata": {},
   "outputs": [
    {
     "name": "stdout",
     "output_type": "stream",
     "text": [
      "True\n",
      "True\n",
      "False\n",
      "True\n",
      "False\n",
      "False\n",
      "False\n",
      "True\n"
     ]
    }
   ],
   "source": [
    "#Logical Operators\n",
    "\n",
    "print(True or True)\n",
    "print(True or False)\n",
    "print(False or False)\n",
    "print(True and True)\n",
    "print(False and False)\n",
    "print(True and False)\n",
    "print(not True)\n",
    "print(not False)"
   ]
  },
  {
   "cell_type": "code",
   "execution_count": 9,
   "id": "c2606ab4-5c2f-4e46-b3de-f102aee88a75",
   "metadata": {
    "tags": []
   },
   "outputs": [
    {
     "name": "stdin",
     "output_type": "stream",
     "text": [
      "Please enter your name 1\n",
      "Area Code 1\n",
      "Phone Number 1\n"
     ]
    },
    {
     "name": "stdout",
     "output_type": "stream",
     "text": [
      "Name: 1\n",
      "Phone Number: 11\n"
     ]
    }
   ],
   "source": [
    "#Input function\n",
    "name = input (\"Please enter your name\")\n",
    "areaCode = input (\"Area Code\")\n",
    "phoneNumber = input (\"Phone Number\")\n",
    "\n",
    "number = areaCode + phoneNumber\n",
    "\n",
    "print(\"Name:\",name)\n",
    "print(\"Phone Number:\",number)"
   ]
  },
  {
   "cell_type": "code",
   "execution_count": 10,
   "id": "7a2a0eba-f1c3-4227-81fa-921c0f94cc44",
   "metadata": {},
   "outputs": [
    {
     "name": "stdin",
     "output_type": "stream",
     "text": [
      "Enter first number: 1\n",
      "Enter second number: 1\n"
     ]
    },
    {
     "name": "stdout",
     "output_type": "stream",
     "text": [
      "Results: 2\n"
     ]
    }
   ],
   "source": [
    "#Typecast input function\n",
    "\n",
    "number1 = input(\"Enter first number:\")\n",
    "number2 = input(\"Enter second number:\")\n",
    "number1 = int(number1)\n",
    "number2 = int(number2)\n",
    "sum = number1 + number2\n",
    "print(\"Results:\", sum)"
   ]
  },
  {
   "cell_type": "code",
   "execution_count": 11,
   "id": "24b0ec01-e4cb-4f13-be9b-568d6de4f5e4",
   "metadata": {},
   "outputs": [
    {
     "name": "stdout",
     "output_type": "stream",
     "text": [
      "Your number is less than 7\n",
      "6\n"
     ]
    }
   ],
   "source": [
    "#Conditions IF,ELIF,ELSE\n",
    "\n",
    "import random\n",
    "\n",
    "number = int (random.randrange(1,10))\n",
    "\n",
    "if number < 7 :\n",
    "    print ( \"Your number is less than 7\" )\n",
    "elif number > 7 :\n",
    "    print ( \"Your number is greater than 7\" )\n",
    "else :\n",
    "    print ( \"Your number is 7\" )\n",
    "print(number)\n"
   ]
  },
  {
   "cell_type": "code",
   "execution_count": 12,
   "id": "70065c66-5faf-4523-97f2-264c4cf3b57a",
   "metadata": {},
   "outputs": [
    {
     "name": "stdout",
     "output_type": "stream",
     "text": [
      "Your number is even\n"
     ]
    }
   ],
   "source": [
    "#Nested IF statements\n",
    "\n",
    "import random\n",
    "\n",
    "number = int (random.randrange(1,10))\n",
    "\n",
    "if number % 2 == 0:\n",
    "    if number == 0:\n",
    "        print(\"Your number is even but zero\")\n",
    "    else:\n",
    "        print(\"Your number is even\")\n",
    "else:\n",
    "    print(\"Your number is odd\")"
   ]
  },
  {
   "cell_type": "code",
   "execution_count": 13,
   "id": "d1f80630-b443-4889-a8da-ef61e3512ac6",
   "metadata": {},
   "outputs": [
    {
     "name": "stdout",
     "output_type": "stream",
     "text": [
      "-----[While Loop]-----\n",
      "1\n",
      "2\n",
      "3\n",
      "4\n",
      "5\n",
      "6\n",
      "7\n",
      "8\n",
      "9\n",
      "10\n",
      "-----[Endless Loop]-----\n",
      "-----[For Loop]-----\n",
      "10\n",
      "20\n",
      "30\n",
      "40\n"
     ]
    }
   ],
   "source": [
    "#Loops\n",
    "\n",
    "print(\"-----[While Loop]-----\")\n",
    "#While\n",
    "number=0\n",
    "\n",
    "while number<10:\n",
    "    number+=1\n",
    "    print(number)\n",
    "    \n",
    "print(\"-----[Endless Loop]-----\")\n",
    "#Endless\n",
    "#while True:\n",
    "    #print (\"This will print forever\")\n",
    "\n",
    "print(\"-----[For Loop]-----\")\n",
    "#For\n",
    "numbers=[10,20,30,40]\n",
    "\n",
    "for number in numbers:\n",
    "    print(number)\n",
    "\n",
    "    "
   ]
  },
  {
   "cell_type": "code",
   "execution_count": 14,
   "id": "c3695fa6-aa37-4e66-99c8-4a90b04dd58e",
   "metadata": {},
   "outputs": [
    {
     "name": "stdout",
     "output_type": "stream",
     "text": [
      "0\n",
      "1\n",
      "2\n",
      "3\n",
      "4\n",
      "5\n",
      "6\n",
      "7\n",
      "8\n",
      "9\n",
      "10\n",
      "11\n",
      "12\n",
      "13\n",
      "14\n",
      "15\n",
      "16\n",
      "17\n",
      "18\n",
      "19\n",
      "20\n",
      "21\n",
      "22\n",
      "23\n",
      "24\n",
      "25\n",
      "26\n",
      "27\n",
      "28\n",
      "29\n",
      "30\n",
      "31\n",
      "32\n",
      "33\n",
      "34\n",
      "35\n",
      "36\n",
      "37\n",
      "38\n",
      "39\n",
      "40\n",
      "41\n",
      "42\n",
      "43\n",
      "44\n",
      "45\n",
      "46\n",
      "47\n",
      "48\n",
      "49\n",
      "50\n",
      "51\n",
      "52\n",
      "53\n",
      "54\n",
      "55\n",
      "56\n",
      "57\n",
      "58\n",
      "59\n",
      "60\n",
      "61\n",
      "62\n",
      "63\n",
      "64\n",
      "65\n",
      "66\n",
      "67\n",
      "68\n",
      "69\n",
      "70\n",
      "71\n",
      "72\n",
      "73\n",
      "74\n",
      "75\n",
      "76\n",
      "77\n",
      "78\n",
      "79\n",
      "80\n",
      "81\n",
      "82\n",
      "83\n",
      "84\n",
      "85\n",
      "86\n",
      "87\n",
      "88\n",
      "89\n",
      "90\n",
      "91\n",
      "92\n",
      "93\n",
      "94\n",
      "95\n",
      "96\n",
      "97\n",
      "98\n",
      "99\n",
      "20\n",
      "21\n",
      "22\n",
      "23\n",
      "24\n",
      "25\n",
      "26\n",
      "27\n",
      "28\n",
      "29\n",
      "30\n",
      "31\n",
      "32\n",
      "33\n",
      "34\n",
      "35\n",
      "36\n",
      "37\n",
      "38\n",
      "39\n",
      "40\n",
      "41\n",
      "42\n",
      "43\n",
      "44\n",
      "45\n",
      "46\n",
      "47\n",
      "48\n",
      "49\n",
      "50\n",
      "51\n",
      "52\n",
      "53\n",
      "54\n",
      "55\n",
      "56\n",
      "57\n",
      "58\n",
      "59\n",
      "60\n",
      "61\n",
      "62\n",
      "63\n",
      "64\n",
      "65\n",
      "66\n",
      "67\n",
      "68\n",
      "69\n",
      "70\n",
      "71\n",
      "72\n",
      "73\n",
      "74\n",
      "75\n",
      "76\n",
      "77\n",
      "78\n",
      "79\n"
     ]
    }
   ],
   "source": [
    "#Range Function\n",
    "\n",
    "for x in range(100):\n",
    "    print(x)\n",
    "    \n",
    "for x in range (20,80):\n",
    "    print(x)"
   ]
  },
  {
   "cell_type": "code",
   "execution_count": 15,
   "id": "a8e6cb4c-05db-46c5-bf0f-917c605919fe",
   "metadata": {},
   "outputs": [
    {
     "name": "stdout",
     "output_type": "stream",
     "text": [
      "1\n",
      "2\n",
      "3\n",
      "4\n"
     ]
    }
   ],
   "source": [
    "#Break Statement\n",
    "\n",
    "number=0\n",
    "\n",
    "while number<10:\n",
    "    number+=1\n",
    "    if number==5:\n",
    "        break\n",
    "    print(number)"
   ]
  },
  {
   "cell_type": "code",
   "execution_count": 16,
   "id": "41aaf2f0-0568-4de5-b1af-e16c5287e382",
   "metadata": {},
   "outputs": [
    {
     "name": "stdout",
     "output_type": "stream",
     "text": [
      "1\n",
      "2\n",
      "3\n",
      "4\n",
      "5\n",
      "6\n",
      "8\n",
      "9\n",
      "10\n"
     ]
    }
   ],
   "source": [
    "#Continue Statement\n",
    "\n",
    "number=0\n",
    "\n",
    "while number <10:\n",
    "    number+=1\n",
    "    if number==7:\n",
    "        continue\n",
    "    print(number)"
   ]
  },
  {
   "cell_type": "code",
   "execution_count": 17,
   "id": "5732b1ab-948e-49b5-bd4b-ce482d29ffee",
   "metadata": {},
   "outputs": [],
   "source": [
    "#Pass Statement\n",
    "\n",
    "if number==10:\n",
    "    pass\n",
    "else:\n",
    "    pass\n",
    "\n",
    "while number<10:\n",
    "    pass"
   ]
  },
  {
   "cell_type": "code",
   "execution_count": 18,
   "id": "7f464d9e-e0b4-4034-8306-76fd421bc3d3",
   "metadata": {},
   "outputs": [
    {
     "name": "stdout",
     "output_type": "stream",
     "text": [
      "[34, 23]\n",
      "['Jack', 'Jill', 'Jon', 'Jane', 'Jim', 'Jub']\n",
      "['Jack', 34, 154.5, False]\n",
      "['Jax', 'Jill', 'Jon', 'Jane', 'Jim', 'Jub']\n",
      "['Jax', 34, 154.5, True]\n"
     ]
    }
   ],
   "source": [
    "#lists\n",
    "\n",
    "age=[34,23,7,5,1,33]\n",
    "names=[\"Jack\",\"Jill\",\"Jon\",\"Jane\",\"Jim\",\"Jub\"]\n",
    "mixed=[\"Jack\",34,154.5,False]\n",
    "\n",
    "print(age[0:2])\n",
    "print(names[:6])\n",
    "print(mixed[0:])\n",
    "\n",
    "#Modifying Elements\n",
    "\n",
    "names[0]=\"Jax\"\n",
    "mixed[0]=\"Jax\"\n",
    "mixed[3]=True\n",
    "\n",
    "\n",
    "print(names[0:])\n",
    "print(mixed[0:])\n"
   ]
  },
  {
   "cell_type": "code",
   "execution_count": 19,
   "id": "5485b925-4ae5-4a60-a33b-39c58f71de07",
   "metadata": {},
   "outputs": [
    {
     "name": "stdout",
     "output_type": "stream",
     "text": [
      "[0, 1, 2, 3, 4, 5, 6, 7, 8, 9, 10, 100, 101]\n",
      "[7, 7, 7, 7, 7, 7, 7, 7, 7]\n",
      "List: [0, 1, 2, 3, 4, 5, 6, 7, 8, 9, 10, 100, 101]\n",
      "Length of list: 13\n",
      "Max value: 101\n",
      "Minumum Value 0\n",
      "Appended element to list: [0, 1, 2, 3, 4, 5, 6, 7, 8, 9, 10, 100, 101, 777]\n",
      "Counts amount of times element appears: 9\n",
      "Index at point element occurs 13 [0, 1, 2, 3, 4, 5, 6, 7, 8, 9, 10, 100, 101, 777]\n",
      "Removed and returned last element: 777\n",
      "Reversed list: [101, 100, 10, 9, 8, 7, 6, 5, 4, 3, 2, 1, 0]\n",
      "Sorted list: [0, 1, 2, 3, 4, 5, 6, 7, 8, 9, 10, 100, 101]\n"
     ]
    }
   ],
   "source": [
    "#List Operations\n",
    "\n",
    "numbers=[0,1,2,3,4,5,6,7,8,9,10]+[100,101]\n",
    "numbers1=[7,7,7]*3\n",
    "\n",
    "print(numbers)\n",
    "print(numbers1)\n",
    "\n",
    "#List Functions\n",
    "\n",
    "print(\"List:\",numbers)\n",
    "print(\"Length of list:\",len(numbers))\n",
    "print(\"Max value:\",max(numbers))\n",
    "print(\"Minumum Value\",min(numbers))\n",
    "#numbers(5)\n",
    "numbers.append(777)\n",
    "print(\"Appended element to list:\",numbers)\n",
    "\n",
    "print(\"Counts amount of times element appears:\",numbers1.count(7))\n",
    "print(\"Index at point element occurs\",numbers.index(777),numbers)\n",
    "print(\"Removed and returned last element:\",numbers.pop())\n",
    "\n",
    "numbers.reverse()\n",
    "print(\"Reversed list:\", numbers)\n",
    "\n",
    "numbers.sort()\n",
    "print(\"Sorted list:\", numbers)"
   ]
  },
  {
   "cell_type": "code",
   "execution_count": 20,
   "id": "0f3fdb8e-e841-4655-a99a-beb0d0bda75e",
   "metadata": {},
   "outputs": [],
   "source": [
    "#Tuples (can't be modified)\n",
    "\n",
    "tpl=(10,20,30)"
   ]
  },
  {
   "cell_type": "code",
   "execution_count": 21,
   "id": "acdb616e-209f-44b8-a388-74eec0cfdca2",
   "metadata": {},
   "outputs": [
    {
     "name": "stdout",
     "output_type": "stream",
     "text": [
      "{'Name': 'Jax', 'Age': 34, 'Height': 6.1}\n",
      "Jax\n",
      "Length of dictionary: 3\n",
      "Dictionary displayed as string: {'Name': 'Jax', 'Age': 34, 'Height': 6.1}\n",
      "Returned copy of dictionary: {'Name': 'Jax', 'Age': 34, 'Height': 6.1}\n",
      "Returned new dictionary with same key but empty elements: {'E': None, 'M': None, 'P': None, 'T': None, 'Y': None}\n",
      "Returned value of given key 'Name': Jax\n",
      "Returns only if dictionary has ceratin key 'Name': True\n",
      "Returned dictionary items as tuples: dict_items([('Name', 'Jax'), ('Age', 34), ('Height', 6.1)])\n",
      "Returned list of all keys: dict_keys(['Name', 'Age', 'Height'])\n",
      "Added second dictionary to existing one: {'Name': 'Jax', 'Age': 34, 'Height': 6.1, 'Wieght': 155, 'Blood type': 'AB+'}\n",
      "Returned list of all values: dict_values(['Jax', 34, 6.1, 155, 'AB+'])\n",
      "Cleared elements of dictionary: None | None\n"
     ]
    }
   ],
   "source": [
    "#Dictionaries\n",
    "\n",
    "dct={\"Name\":\"Jax\",\n",
    "     \"Age\":34,\n",
    "     \"Height\":6.1}\n",
    "\n",
    "print(dct)\n",
    "print(dct[\"Name\"])\n",
    "\n",
    "#Dictionary Functions\n",
    "\n",
    "print(\"Length of dictionary:\",len(dct))\n",
    "print(\"Dictionary displayed as string:\",str(dct))\n",
    "print(\"Returned copy of dictionary:\",dct.copy())\n",
    "print(\"Returned new dictionary with same key but empty elements:\",dct.fromkeys(\"EMPTY\"))\n",
    "print(\"Returned value of given key 'Name':\",dct.get(\"Name\"))\n",
    "print(\"Returns only if dictionary has ceratin key 'Name':\", dct.__contains__('Name'))\n",
    "print(\"Returned dictionary items as tuples:\",dct.items())\n",
    "print(\"Returned list of all keys:\",dct.keys())\n",
    "\n",
    "dct2={\"Wieght\":155,\n",
    "      \"Blood type\":\"AB+\"}\n",
    "dct.update(dct2)\n",
    "print(\"Added second dictionary to existing one:\",dct)\n",
    "print(\"Returned list of all values:\", dct.values())\n",
    "print(\"Cleared elements of dictionary:\",dct.clear(),\"|\",dct2.clear())"
   ]
  },
  {
   "cell_type": "code",
   "execution_count": 22,
   "id": "f74871f0-3abc-4104-8c78-4cd650574ea3",
   "metadata": {},
   "outputs": [
    {
     "name": "stdout",
     "output_type": "stream",
     "text": [
      "True\n",
      "False\n",
      "True\n",
      "10\n",
      "20\n",
      "30\n",
      "40\n",
      "50\n"
     ]
    }
   ],
   "source": [
    "#Memborship operators\n",
    "\n",
    "lst1 = [10,20,30,40,50]\n",
    "\n",
    "print(20 in lst1)\n",
    "print(60 in lst1)\n",
    "print(60 not in lst1)\n",
    "\n",
    "for x in lst1:\n",
    "    print(x)"
   ]
  },
  {
   "cell_type": "code",
   "execution_count": 23,
   "id": "73f08810-3fd8-4395-a472-c8c73b77aead",
   "metadata": {},
   "outputs": [
    {
     "name": "stdout",
     "output_type": "stream",
     "text": [
      "Hello\n"
     ]
    }
   ],
   "source": [
    "#Defining functions\n",
    "\n",
    "def hello():\n",
    "    print(\"Hello\")\n",
    "    \n",
    "hello()"
   ]
  },
  {
   "cell_type": "code",
   "execution_count": 24,
   "id": "dd1b202a-3fb7-4963-9f1b-68d04e08b306",
   "metadata": {},
   "outputs": [
    {
     "name": "stdout",
     "output_type": "stream",
     "text": [
      "23\n"
     ]
    }
   ],
   "source": [
    "#Parameters\n",
    "\n",
    "def print_sum(nmbr1,nmbr2):\n",
    "    print(nmbr1+nmbr2)\n",
    "    \n",
    "print_sum(20,3)"
   ]
  },
  {
   "cell_type": "code",
   "execution_count": 25,
   "id": "9e735f0d-05a5-4e9a-9098-da4b13fc921c",
   "metadata": {},
   "outputs": [
    {
     "name": "stdout",
     "output_type": "stream",
     "text": [
      "14\n"
     ]
    }
   ],
   "source": [
    "#Returning values\n",
    "\n",
    "def add(nmbr1,nmbr2):\n",
    "    return nmbr1+nmbr2\n",
    "\n",
    "nmbr3=add(7,7)\n",
    "print(nmbr3)"
   ]
  },
  {
   "cell_type": "code",
   "execution_count": 26,
   "id": "d062d59b-cb88-406a-ae99-0ac776f09938",
   "metadata": {},
   "outputs": [
    {
     "name": "stdout",
     "output_type": "stream",
     "text": [
      "Howdy world\n"
     ]
    }
   ],
   "source": [
    "#Default parameters\n",
    "\n",
    "def say(text=\"Default text\"):\n",
    "    print(text)\n",
    "    \n",
    "say('Howdy world')"
   ]
  },
  {
   "cell_type": "code",
   "execution_count": 27,
   "id": "bab6ddb1-9078-41e5-a645-dd89daeb7cb0",
   "metadata": {},
   "outputs": [
    {
     "name": "stdout",
     "output_type": "stream",
     "text": [
      "100\n"
     ]
    }
   ],
   "source": [
    "#Variable parameters\n",
    "\n",
    "def print_sum(*nmbrs):\n",
    "    result=0   \n",
    "    for x in nmbrs:\n",
    "        result+=x\n",
    "    print(result)\n",
    "    \n",
    "print_sum(10,20,30,40)"
   ]
  },
  {
   "cell_type": "code",
   "execution_count": 28,
   "id": "614ba751-45b9-47bb-8796-cecb88b4a110",
   "metadata": {},
   "outputs": [
    {
     "name": "stdout",
     "output_type": "stream",
     "text": [
      "20\n"
     ]
    }
   ],
   "source": [
    "#Scopes\n",
    "\n",
    "#Variable doesnt exist example\n",
    "#def function():\n",
    "#    nmbr=10\n",
    "#    print(nmbr)\n",
    "#    \n",
    "#print(nmbr)\n",
    "\n",
    "#---------------------\n",
    "#Variable is global example\n",
    "#number=10\n",
    "#\n",
    "#def function():\n",
    "#    print(number)\n",
    "#    \n",
    "#function()\n",
    "\n",
    "#----------------------\n",
    "\n",
    "nmbr=10\n",
    "\n",
    "def function():\n",
    "    global nmbr\n",
    "    nmbr+=10\n",
    "    print(nmbr)\n",
    "    \n",
    "function()"
   ]
  },
  {
   "cell_type": "code",
   "execution_count": 29,
   "id": "a763c030-2cf5-43a2-ab26-05f9767d9fca",
   "metadata": {},
   "outputs": [
    {
     "name": "stdout",
     "output_type": "stream",
     "text": [
      "Code for divide by zero error...\n",
      "Code for ValueError...\n",
      "!ERROR!\n",
      "!ERROR!\n",
      "EXECUTED\n"
     ]
    }
   ],
   "source": [
    "#Exception Handling\n",
    "\n",
    "#Try except\n",
    "\n",
    "try:\n",
    "    print(10/0)\n",
    "except ZeroDivisionError:\n",
    "    print(\"Code for divide by zero error...\")\n",
    "except:\n",
    "    print(\"Code for other exceptions...\")\n",
    "    \n",
    "\n",
    "try:\n",
    "    text=\"Hello\"\n",
    "    number=int(text)\n",
    "except ValueError:\n",
    "    print(\"Code for ValueError...\")\n",
    "except:\n",
    "    print(\"Code for other exceptions...\")\n",
    "    \n",
    "#Else Statements\n",
    "\n",
    "try:\n",
    "    print(7/0)\n",
    "except:\n",
    "    print(\"!ERROR!\")\n",
    "else:\n",
    "    print(\"VALID\")\n",
    "    \n",
    "#Finally statements \n",
    "\n",
    "try:\n",
    "    print(5/0)\n",
    "except:\n",
    "    print(\"!ERROR!\")\n",
    "finally:\n",
    "    print(\"EXECUTED\")"
   ]
  },
  {
   "cell_type": "code",
   "execution_count": 59,
   "id": "02983e92-1334-4058-8ee8-fdcbb6419fcd",
   "metadata": {},
   "outputs": [
    {
     "ename": "TypeError",
     "evalue": "'str' object cannot be interpreted as an integer",
     "output_type": "error",
     "traceback": [
      "\u001b[1;31m---------------------------------------------------------------------------\u001b[0m",
      "\u001b[1;31mTypeError\u001b[0m                                 Traceback (most recent call last)",
      "\u001b[1;32mC:\\Users\\JORDAN~1\\AppData\\Local\\Temp/ipykernel_13072/888631101.py\u001b[0m in \u001b[0;36m<module>\u001b[1;34m\u001b[0m\n\u001b[0;32m      8\u001b[0m \u001b[1;33m\u001b[0m\u001b[0m\n\u001b[0;32m      9\u001b[0m \u001b[1;31m#Writing using With\u001b[0m\u001b[1;33m\u001b[0m\u001b[1;33m\u001b[0m\u001b[0m\n\u001b[1;32m---> 10\u001b[1;33m \u001b[1;32mwith\u001b[0m \u001b[0mopen\u001b[0m\u001b[1;33m(\u001b[0m\u001b[1;34m\"myfile.txt\"\u001b[0m\u001b[1;33m,\u001b[0m\u001b[1;34m\"w\"\u001b[0m\u001b[1;33m)\u001b[0m \u001b[1;32mas\u001b[0m \u001b[0mfile\u001b[0m\u001b[1;33m:\u001b[0m\u001b[1;33m\u001b[0m\u001b[1;33m\u001b[0m\u001b[0m\n\u001b[0m\u001b[0;32m     11\u001b[0m     \u001b[0mprint\u001b[0m\u001b[1;33m(\u001b[0m\u001b[0mfile\u001b[0m\u001b[1;33m.\u001b[0m\u001b[0mwrite\u001b[0m\u001b[1;33m(\u001b[0m\u001b[1;34m\"Hello file!\"\u001b[0m\u001b[1;33m)\u001b[0m\u001b[1;33m)\u001b[0m\u001b[1;33m\u001b[0m\u001b[1;33m\u001b[0m\u001b[0m\n\u001b[0;32m     12\u001b[0m \u001b[1;33m\u001b[0m\u001b[0m\n",
      "\u001b[1;31mTypeError\u001b[0m: 'str' object cannot be interpreted as an integer"
     ]
    }
   ],
   "source": [
    "#File operations\n",
    "\n",
    "#Opening and closing\n",
    "file=open('myfile.txt','r')\n",
    "print(file.read())\n",
    "file.close()\n",
    "\n",
    "#Opening using With closes stream afterwards\n",
    "with open('myfile.txt','r')as file:\n",
    "    print(file.read(5))\n",
    "\n",
    "#Access modes\n",
    "# r   | reading\n",
    "# r+  | reading and writing (no truncating)\n",
    "# rb  | reading binary\n",
    "# rb+ | reading and writing binary (no truncating)\n",
    "# w   | writing\n",
    "# w+  | reading and writing (no truncating)\n",
    "# wb  | writing binary\n",
    "# wb+ | reading and writing binary file (no truncating)\n",
    "# a   | appending\n",
    "# a+  | reading and appending\n",
    "# ab  | appending binary file\n",
    "# ab+ | reading and appending binary file\n",
    "\n",
    "#Writing into files\n",
    "file=open('myfile.txt','w')\n",
    "print(file.write('Howdy file!'))\n",
    "file.flush()\n",
    "file.close()\n",
    "\n",
    "#Writing using With\n",
    "with open('myfile.txt','w') as file:\n",
    "    print(file.write(\"Hello file!\"))\n",
    "    \n",
    "#Appending to file\n",
    "with open('myfile.txt','a') as file:\n",
    "    print(file.write('Append file!'))"
   ]
  },
  {
   "cell_type": "code",
   "execution_count": 58,
   "id": "133138e8-2e57-4a55-8a9b-2f00685a9366",
   "metadata": {},
   "outputs": [
    {
     "ename": "FileNotFoundError",
     "evalue": "[WinError 2] The system cannot find the file specified: 'newdir'",
     "output_type": "error",
     "traceback": [
      "\u001b[1;31m---------------------------------------------------------------------------\u001b[0m",
      "\u001b[1;31mFileNotFoundError\u001b[0m                         Traceback (most recent call last)",
      "\u001b[1;32mC:\\Users\\JORDAN~1\\AppData\\Local\\Temp/ipykernel_13072/1404515411.py\u001b[0m in \u001b[0;36m<module>\u001b[1;34m\u001b[0m\n\u001b[0;32m      9\u001b[0m \u001b[1;31m#chdir('newdir')\u001b[0m\u001b[1;33m\u001b[0m\u001b[1;33m\u001b[0m\u001b[0m\n\u001b[0;32m     10\u001b[0m \u001b[1;31m#chdir('..')\u001b[0m\u001b[1;33m\u001b[0m\u001b[1;33m\u001b[0m\u001b[0m\n\u001b[1;32m---> 11\u001b[1;33m \u001b[0mrmdir\u001b[0m\u001b[1;33m(\u001b[0m\u001b[1;34m'newdir'\u001b[0m\u001b[1;33m)\u001b[0m\u001b[1;33m\u001b[0m\u001b[1;33m\u001b[0m\u001b[0m\n\u001b[0m",
      "\u001b[1;31mFileNotFoundError\u001b[0m: [WinError 2] The system cannot find the file specified: 'newdir'"
     ]
    }
   ],
   "source": [
    "#Importing modules\n",
    "import os\n",
    "from os import *\n",
    "\n",
    "#Deleting and renaming\n",
    "remove('myfile.txt')\n",
    "#rename('myfile.txt','testfile.txt')\n",
    "\n",
    "#Directory operations\n",
    "#mkdir('newdir')\n",
    "#rename('testfile.txt','newdir/myfile.txt')\n",
    "#chdir('newdir')\n",
    "#chdir('..')\n",
    "#rmdir('newdir')"
   ]
  },
  {
   "cell_type": "code",
   "execution_count": 84,
   "id": "84a3c320-456a-4e6a-a907-db4c9d108a4d",
   "metadata": {},
   "outputs": [
    {
     "name": "stdout",
     "output_type": "stream",
     "text": [
      "Hello\n",
      "World\n",
      "H\n",
      "e\n",
      "l\n",
      "l\n",
      "o\n",
      " \n",
      "W\n",
      "o\n",
      "r\n",
      "l\n",
      "d\n",
      "!\n",
      "Hello World! \t Hello World! \n",
      " Hello World!\n"
     ]
    }
   ],
   "source": [
    "#String functions\n",
    "#https://www.w3schools.com/python/python_ref_string.asp\n",
    "\n",
    "#Sequences\n",
    "text=\"Hello World!\"\n",
    "print(text[:5])\n",
    "print(text[6:11])\n",
    "\n",
    "for x in text:\n",
    "    print(x)\n",
    "    \n",
    "#Escape characters\n",
    "print(text,'\\t',text,'\\n',text )"
   ]
  },
  {
   "cell_type": "code",
   "execution_count": 98,
   "id": "9453b6a5-1e7a-417b-836f-a2424ec59409",
   "metadata": {},
   "outputs": [
    {
     "name": "stdout",
     "output_type": "stream",
     "text": [
      "Jon is his name,\n",
      "he is 25 years old.\n",
      "\n",
      "\n",
      "Their name is Jon and are 25 years old.\n"
     ]
    }
   ],
   "source": [
    "#String formatting\n",
    "\n",
    "name,age='Jon',25\n",
    "print('%s is his name,'%name)\n",
    "print('he is %d years old.'%age)\n",
    "\n",
    "# %c    | characters\n",
    "# %s    | string\n",
    "# %d or %i  | integer\n",
    "# %f    | float\n",
    "# %e    | exponential notation\n",
    "print('\\n')\n",
    "\n",
    "print('Their name is {} and are {} years old.'\n",
    "      .format(name,age))"
   ]
  },
  {
   "cell_type": "code",
   "execution_count": 112,
   "id": "2c06bd14-4777-42c3-bf7e-dd9d9b6fbe9d",
   "metadata": {},
   "outputs": [
    {
     "name": "stdout",
     "output_type": "stream",
     "text": [
      "Normal: Python is cool, with it you can do cool things!\n",
      "Converted to lowercase: python is cool, with it you can do cool things!\n",
      "Converted to uppercase: PYTHON IS COOL, WITH IT YOU CAN DO COOL THINGS!\n",
      "Converted to titlecase: Python Is Cool, With It You Can Do Cool Things!\n",
      "Converted first letter to uppercase: Python is cool, with it you can do cool things!\n",
      "Swapped case of all letters: pYTHON IS COOL, WITH IT YOU CAN DO COOL THINGS!\n",
      "Using count function to check for word \"cool\": 2\n",
      "Using find function to find index for \"do\": 32\n",
      "Replace string \"cool\" with \"awesome\": Python is awesome, with it you can do awesome things!\n"
     ]
    }
   ],
   "source": [
    "#Case manipulating functions\n",
    "\n",
    "testStrng='Python is cool, with it you can do cool things!'\n",
    "\n",
    "print('Normal:',testStrng)\n",
    "print('Converted to lowercase:',testStrng.lower())\n",
    "print('Converted to uppercase:',testStrng.upper())\n",
    "print('Converted to titlecase:',testStrng.title())\n",
    "print('Converted first letter to uppercase:',testStrng.capitalize())\n",
    "print('Swapped case of all letters:',testStrng.swapcase())\n",
    "#Count function\n",
    "print('Using count function to check for word \"cool\":',testStrng.count('cool'))\n",
    "#Find function\n",
    "print('Using find function to find index for \"do\":',testStrng.find('do'))\n",
    "#Replace function\n",
    "print('Replace string \"cool\" with \"awesome\":',testStrng.replace('cool','awesome'))"
   ]
  },
  {
   "cell_type": "code",
   "execution_count": 117,
   "id": "dd699446-d366-48c9-b152-35a83f3c6137",
   "metadata": {},
   "outputs": [
    {
     "name": "stdout",
     "output_type": "stream",
     "text": [
      "Names using the Join function: Jax-Jon-Jen-Jub\n",
      "Name list with Split function: ['Jax', 'Jon', 'Jen', 'Jib']\n"
     ]
    }
   ],
   "source": [
    "#Join function\n",
    "names=['Jax','Jon','Jen','Jub']\n",
    "sep='-'\n",
    "print('Names using the Join function:',sep.join(names))\n",
    "\n",
    "#Split function\n",
    "names1='Jax,Jon,Jen,Jib'\n",
    "name_list=names1.split(',')\n",
    "print('Name list with Split function:',name_list)"
   ]
  },
  {
   "cell_type": "code",
   "execution_count": 120,
   "id": "6ccf51d4-07f0-419c-b2d9-ced4c822ec8c",
   "metadata": {},
   "outputs": [
    {
     "name": "stdout",
     "output_type": "stream",
     "text": [
      "Hello World! We are using a multi-line comment!\n",
      "Using \"Triple Quotes\"!\n",
      "Python is WOW much cool!\n",
      "No escape characters are needed in order to write a new empty line!\n"
     ]
    }
   ],
   "source": [
    "#Triple Quotes\n",
    "print('''Hello World! We are using a multi-line comment!\n",
    "Using \"Triple Quotes\"!\n",
    "Python is WOW much cool!\n",
    "No escape characters are needed in order to write a new empty line!''')"
   ]
  },
  {
   "cell_type": "code",
   "execution_count": null,
   "id": "8d000ee1-1769-4caf-a4bd-7781ead3a057",
   "metadata": {},
   "outputs": [],
   "source": []
  }
 ],
 "metadata": {
  "kernelspec": {
   "display_name": "Python 3 (ipykernel)",
   "language": "python",
   "name": "python3"
  },
  "language_info": {
   "codemirror_mode": {
    "name": "ipython",
    "version": 3
   },
   "file_extension": ".py",
   "mimetype": "text/x-python",
   "name": "python",
   "nbconvert_exporter": "python",
   "pygments_lexer": "ipython3",
   "version": "3.10.1"
  }
 },
 "nbformat": 4,
 "nbformat_minor": 5
}
