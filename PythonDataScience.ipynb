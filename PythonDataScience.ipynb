{
 "cells": [
  {
   "cell_type": "code",
   "execution_count": null,
   "id": "9cc14a83-93a3-4436-b5c1-67c16b2b564f",
   "metadata": {},
   "outputs": [],
   "source": [
    "#Numpy arrays\n",
    "import numpy as np\n",
    "\n",
    "a=np.array([10,20,30,15,65412312,5,131,561,315,851,35])\n",
    "b=np.array([1,7,8,64,35,12,156,354856,315,15,35,5,77,78511646])\n",
    "\n",
    "print(a[0])\n",
    "print('\\n')\n",
    "print(b[2])"
   ]
  },
  {
   "cell_type": "code",
   "execution_count": null,
   "id": "3416a083-1f3a-4170-920b-7a0c1cacc0d1",
   "metadata": {},
   "outputs": [],
   "source": [
    "#Creating arrays\n",
    "import numpy as np\n",
    "\n",
    "a=np.array([[10,20,30,80],[40,50,60,70,]])\n",
    "print(a)\n",
    "print('\\n')\n",
    "print(a[1][2])"
   ]
  },
  {
   "cell_type": "code",
   "execution_count": null,
   "id": "da23a571-9cd4-4779-b037-643b569fba35",
   "metadata": {},
   "outputs": [],
   "source": [
    "#Multi-dimensional arrays\n",
    "import numpy as np\n",
    "\n",
    "a=np.array([[10,20,30],\n",
    "            [40,50,60],\n",
    "            [7,70,77,]\n",
    "           ],dtype=float)\n",
    "\n",
    "print(a)\n",
    "print('---------------playground----------------------')\n",
    "\n",
    "for x in range (0,3):\n",
    "    nmbr0=np.random.randint(10,size=(3,4))\n",
    "    print('------only last one shows-------- \\n',nmbr0)\n",
    "for x in range (0,3):\n",
    "    nmbr1=np.random.randint(10,size=(3,4))\n",
    "for x in range (0,3):\n",
    "    nmbr2=np.random.randint(10,size=(3,4))\n",
    "\n",
    "arr=np.array([nmbr0,\n",
    "           nmbr1,\n",
    "            nmbr2\n",
    "           ],dtype=float)\n",
    "\n",
    "print(arr)"
   ]
  },
  {
   "cell_type": "code",
   "execution_count": null,
   "id": "4ccc3c14-c895-49cc-859b-3c34a287bde7",
   "metadata": {},
   "outputs": [],
   "source": [
    "#Full function\n",
    "import numpy as np\n",
    "\n",
    "a=np.full((3,5,4),7)\n",
    "\n",
    "print(a)"
   ]
  },
  {
   "cell_type": "code",
   "execution_count": null,
   "id": "9f7c5394-504b-4536-a090-49ee91497e14",
   "metadata": {},
   "outputs": [],
   "source": [
    "#Zeros and ones\n",
    "import numpy as np\n",
    "\n",
    "a=np.zeros((3,3))\n",
    "b=np.ones((2,3,4,2))\n",
    "\n",
    "print(a)\n",
    "print('\\n')\n",
    "print(b)"
   ]
  },
  {
   "cell_type": "code",
   "execution_count": null,
   "id": "e201d532-3c49-4104-aab1-709fa073cf74",
   "metadata": {},
   "outputs": [],
   "source": [
    "#Empty, random, ranges, not a numbers\n",
    "import numpy as np\n",
    "\n",
    "a=np.empty((3,3))\n",
    "b=np.random.random((3,3))\n",
    "c=np.arange(0,11,1)\n",
    "d=np.linspace(0,10000,11)\n",
    "e=np.array([np.nan,1,np.nan,1,np.nan])\n",
    "e1=np.isnan(e)\n",
    "\n",
    "print(a)\n",
    "print('\\n')\n",
    "print(b)\n",
    "print('\\n')\n",
    "print(c)\n",
    "print('\\n')\n",
    "print(d)\n",
    "print('\\n')\n",
    "print(e)\n",
    "print(e1)"
   ]
  },
  {
   "cell_type": "code",
   "execution_count": null,
   "id": "d3d11f54-7ab7-4942-8bee-7c7ce592b4e2",
   "metadata": {},
   "outputs": [],
   "source": [
    "#Attributes & arithmetic operations with arrays\n",
    "import numpy as np\n",
    "\n",
    "nmbr=np.random.randint(999,size=(3,4))\n",
    "    \n",
    "print(nmbr)\n",
    "print('------Shape------')\n",
    "print(nmbr.shape)\n",
    "print('------Dimensions------')\n",
    "print(nmbr.ndim)\n",
    "print('------Size------')\n",
    "print(nmbr.size)\n",
    "print('------Type------')\n",
    "print(nmbr.dtype)\n",
    "print('------Addition------')\n",
    "print(nmbr+100)\n",
    "print('------Subtraction------')\n",
    "print(nmbr-100)\n",
    "print('------Multiplication------')\n",
    "print(nmbr*100)\n",
    "print('------Division------')\n",
    "print(nmbr/100)"
   ]
  },
  {
   "cell_type": "code",
   "execution_count": null,
   "id": "7fe84d70-da9a-4e46-823c-a53c4d127541",
   "metadata": {},
   "outputs": [],
   "source": [
    "#More arithmetic operations\n",
    "import numpy as np\n",
    "\n",
    "nmbr0=np.random.randint(10,size=(3,4))\n",
    "nmbr1=np.random.randint(10,size=(3,4))\n",
    "nmbr2=np.random.randint(10,size=(3,4))\n",
    "    \n",
    "print('Array 1: \\n',nmbr0)\n",
    "print('Array 2: \\n',nmbr1)\n",
    "print('Array 3: \\n',nmbr2,'\\n')\n",
    "print('Array 1 plus Array 3:\\n',(nmbr0+nmbr2))\n",
    "print('Array 2 subtract Array 3:\\n',(nmbr1-nmbr2))"
   ]
  },
  {
   "cell_type": "code",
   "execution_count": null,
   "id": "ad9428e4-035c-401b-9ed0-4de0154ec910",
   "metadata": {},
   "outputs": [],
   "source": [
    "#Mathematical functions\n",
    "import numpy as np\n",
    "\n",
    "a=np.random.randint(1,20,size=(3,4))\n",
    "\n",
    "print('Array: \\n',a,'\\n')\n",
    "print('Exponent: \\n',np.exp(a),'\\n')\n",
    "print('Sine: \\n',np.sin(a),'\\n')\n",
    "print('Cosine: \\n',np.cos(a),'\\n')\n",
    "print('Tangent: \\n',np.tan(a),'\\n')\n",
    "print('Logarithm: \\n',np.log(a),'\\n')\n",
    "print('Square root: \\n',np.sqrt(a))"
   ]
  },
  {
   "cell_type": "code",
   "execution_count": null,
   "id": "b767f046-a967-42f4-b3af-76a1a1023b14",
   "metadata": {
    "tags": []
   },
   "outputs": [],
   "source": [
    "#Aggregate functions\n",
    "import numpy as np\n",
    "\n",
    "a=np.random.randint(10,size=(3,4))\n",
    "\n",
    "print('Array: \\n',a)\n",
    "print('Sum of all values: ',a.sum())\n",
    "print('Lowest value: ',a.min())\n",
    "print('Highest value: ',a.max())\n",
    "print(\"Mean of all values: \",a.mean())\n",
    "print('Median value of array: ',np.median(a))\n",
    "print('Standard deviation: ',np.std(a))\n"
   ]
  },
  {
   "cell_type": "code",
   "execution_count": null,
   "id": "958712ef-8220-47db-85e1-e043288ac75c",
   "metadata": {},
   "outputs": [],
   "source": [
    "#Manipulating arrays"
   ]
  }
 ],
 "metadata": {
  "kernelspec": {
   "display_name": "Python 3 (ipykernel)",
   "language": "python",
   "name": "python3"
  },
  "language_info": {
   "codemirror_mode": {
    "name": "ipython",
    "version": 3
   },
   "file_extension": ".py",
   "mimetype": "text/x-python",
   "name": "python",
   "nbconvert_exporter": "python",
   "pygments_lexer": "ipython3",
   "version": "3.10.1"
  }
 },
 "nbformat": 4,
 "nbformat_minor": 5
}
