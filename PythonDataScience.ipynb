{
 "cells": [
  {
   "cell_type": "code",
   "execution_count": null,
   "id": "9cc14a83-93a3-4436-b5c1-67c16b2b564f",
   "metadata": {},
   "outputs": [],
   "source": [
    "#Numpy \n",
    "\n",
    "#Arrays\n",
    "import numpy as np\n",
    "\n",
    "a=np.array([10,20,30,15,65412312,5,131,561,315,851,35])\n",
    "b=np.array([1,7,8,64,35,12,156,354856,315,15,35,5,77,78511646])\n",
    "\n",
    "print(a[0])\n",
    "print('\\n')\n",
    "print(b[2])"
   ]
  },
  {
   "cell_type": "code",
   "execution_count": null,
   "id": "3416a083-1f3a-4170-920b-7a0c1cacc0d1",
   "metadata": {},
   "outputs": [],
   "source": [
    "#Creating arrays\n",
    "import numpy as np\n",
    "\n",
    "a=np.array([[10,20,30,80],[40,50,60,70,]])\n",
    "print(a)\n",
    "print('\\n')\n",
    "print(a[1][2])"
   ]
  },
  {
   "cell_type": "code",
   "execution_count": null,
   "id": "da23a571-9cd4-4779-b037-643b569fba35",
   "metadata": {},
   "outputs": [],
   "source": [
    "#Multi-dimensional arrays\n",
    "import numpy as np\n",
    "\n",
    "a=np.array([[10,20,30],\n",
    "            [40,50,60],\n",
    "            [7,70,77,]\n",
    "           ],dtype=float)\n",
    "\n",
    "print(a)\n",
    "\n",
    "print('\\n')\n",
    "\n",
    "nmbrArr0=np.random.randint(10,size=(3,4))\n",
    "nmbrArr1=np.random.randint(10,size=(3,4))\n",
    "nmbrArr2=np.random.randint(10,size=(3,4))\n",
    "\n",
    "arr=np.array([nmbrArr0,\n",
    "           nmbrArr1,\n",
    "            nmbrArr2\n",
    "           ],dtype=float)\n",
    "\n",
    "print(arr)\n"
   ]
  },
  {
   "cell_type": "code",
   "execution_count": null,
   "id": "4ccc3c14-c895-49cc-859b-3c34a287bde7",
   "metadata": {},
   "outputs": [],
   "source": [
    "#Full function\n",
    "import numpy as np\n",
    "\n",
    "a=np.full((3,5,4),7)\n",
    "\n",
    "print(a)"
   ]
  },
  {
   "cell_type": "code",
   "execution_count": null,
   "id": "9f7c5394-504b-4536-a090-49ee91497e14",
   "metadata": {},
   "outputs": [],
   "source": [
    "#Zeros and ones\n",
    "import numpy as np\n",
    "\n",
    "a=np.zeros((3,3))\n",
    "b=np.ones((2,3,4,2))\n",
    "\n",
    "print(a)\n",
    "print('\\n')\n",
    "print(b)"
   ]
  },
  {
   "cell_type": "code",
   "execution_count": null,
   "id": "e201d532-3c49-4104-aab1-709fa073cf74",
   "metadata": {},
   "outputs": [],
   "source": [
    "#Empty, random, ranges, not a numbers\n",
    "import numpy as np\n",
    "\n",
    "a=np.empty((3,3))\n",
    "b=np.random.random((3,3))\n",
    "c=np.arange(0,11,1)\n",
    "d=np.linspace(0,10000,11)\n",
    "e=np.array([np.nan,1,np.nan,1,np.nan])\n",
    "e1=np.isnan(e)\n",
    "\n",
    "print(a)\n",
    "print('\\n')\n",
    "print(b)\n",
    "print('\\n')\n",
    "print(c)\n",
    "print('\\n')\n",
    "print(d)\n",
    "print('\\n')\n",
    "print(e)\n",
    "print(e1)"
   ]
  },
  {
   "cell_type": "code",
   "execution_count": null,
   "id": "d3d11f54-7ab7-4942-8bee-7c7ce592b4e2",
   "metadata": {},
   "outputs": [],
   "source": [
    "#Attributes & arithmetic operations with arrays\n",
    "import numpy as np\n",
    "\n",
    "nmbr=np.random.randint(999,size=(3,4))\n",
    "    \n",
    "print(nmbr)\n",
    "print('------Shape------')\n",
    "print(nmbr.shape)\n",
    "print('------Dimensions------')\n",
    "print(nmbr.ndim)\n",
    "print('------Size------')\n",
    "print(nmbr.size)\n",
    "print('------Type------')\n",
    "print(nmbr.dtype)\n",
    "print('------Addition------')\n",
    "print(nmbr+100)\n",
    "print('------Subtraction------')\n",
    "print(nmbr-100)\n",
    "print('------Multiplication------')\n",
    "print(nmbr*100)\n",
    "print('------Division------')\n",
    "print(nmbr/100)"
   ]
  },
  {
   "cell_type": "code",
   "execution_count": null,
   "id": "7fe84d70-da9a-4e46-823c-a53c4d127541",
   "metadata": {},
   "outputs": [],
   "source": [
    "#More arithmetic operations\n",
    "import numpy as np\n",
    "\n",
    "nmbr0=np.random.randint(10,size=(3,4))\n",
    "nmbr1=np.random.randint(10,size=(3,4))\n",
    "nmbr2=np.random.randint(10,size=(3,4))\n",
    "    \n",
    "print('Array 1: \\n',nmbr0)\n",
    "print('Array 2: \\n',nmbr1)\n",
    "print('Array 3: \\n',nmbr2,'\\n')\n",
    "print('Array 1 plus Array 3:\\n',(nmbr0+nmbr2))\n",
    "print('Array 2 subtract Array 3:\\n',(nmbr1-nmbr2))"
   ]
  },
  {
   "cell_type": "code",
   "execution_count": null,
   "id": "ad9428e4-035c-401b-9ed0-4de0154ec910",
   "metadata": {},
   "outputs": [],
   "source": [
    "#Mathematical functions\n",
    "import numpy as np\n",
    "\n",
    "a=np.random.randint(1,20,size=(3,4))\n",
    "\n",
    "print('Array: \\n',a,'\\n')\n",
    "print('Exponent: \\n',np.exp(a),'\\n')\n",
    "print('Sine: \\n',np.sin(a),'\\n')\n",
    "print('Cosine: \\n',np.cos(a),'\\n')\n",
    "print('Tangent: \\n',np.tan(a),'\\n')\n",
    "print('Logarithm: \\n',np.log(a),'\\n')\n",
    "print('Square root: \\n',np.sqrt(a))"
   ]
  },
  {
   "cell_type": "code",
   "execution_count": null,
   "id": "b767f046-a967-42f4-b3af-76a1a1023b14",
   "metadata": {
    "tags": []
   },
   "outputs": [],
   "source": [
    "#Aggregate functions\n",
    "import numpy as np\n",
    "\n",
    "a=np.random.randint(10,size=(3,4))\n",
    "\n",
    "print('Array: \\n',a)\n",
    "print('Sum of all values: ',a.sum())\n",
    "print('Lowest value: ',a.min())\n",
    "print('Highest value: ',a.max())\n",
    "print(\"Mean of all values: \",a.mean())\n",
    "print('Median value of array: ',np.median(a))\n",
    "print('Standard deviation: ',np.std(a))"
   ]
  },
  {
   "cell_type": "code",
   "execution_count": null,
   "id": "958712ef-8220-47db-85e1-e043288ac75c",
   "metadata": {},
   "outputs": [],
   "source": [
    "#Manipulating arrays\n",
    "import numpy as np\n",
    "\n",
    "a=np.array([[4,2,9],[3,4,7]])\n",
    "b=np.random.randint(10,size=(3,3))\n",
    "\n",
    "a[0][1]=100\n",
    "\n",
    "print('Array 1: \\n',a)\n",
    "print('Array 2: \\n',b)\n",
    "#print('Returned array 1 structred in a different shape: \\n',a.reshape(x,y))\n",
    "print('Flatten Array 1: \\n',a.flatten())\n",
    "print('Ravel Array 2: \\n',b.ravel())\n",
    "print('Array 2 with swapped dimensions: \\n',b.transpose())\n",
    "print('Returned Array 2 with two swapped axes: \\n',b.swapaxes(1,1))\n",
    "\n",
    "print('Iterator for flatted 1d version:')\n",
    "for x in a.flat:\n",
    "    print(x)\n",
    "    \n",
    "print('Spot four in flat Array 1: ',a.flat[3])"
   ]
  },
  {
   "cell_type": "code",
   "execution_count": null,
   "id": "cb6195ae-7499-499c-be2f-24bb71cd34e9",
   "metadata": {},
   "outputs": [],
   "source": [
    "#Joining functions\n",
    "import numpy as np\n",
    "\n",
    "a=np.array(np.random.randint(10,size=(1,3)))\n",
    "b=np.array(np.random.randint(10,size=(1,3)))\n",
    "\n",
    "print('Array 1: \\n',a)\n",
    "print('Array 2: \\n',b)\n",
    "print('Joining arrays along existing axis: \\n',np.concatenate((a,b)))\n",
    "print('Joining arrays along new axis: \\n',np.stack((a,b)))\n",
    "print('Stack arrays horizontally by column: \\n',np.hstack((a,b)))\n",
    "print('Stack arrays vertically by row: \\n',np.vstack((a,b)))"
   ]
  },
  {
   "cell_type": "code",
   "execution_count": null,
   "id": "87afe03e-e445-4fe5-b8ac-de8035d7380b",
   "metadata": {},
   "outputs": [],
   "source": [
    "#Splitting functions\n",
    "import numpy as np\n",
    "\n",
    "a=np.array(np.random.randint(10,size=(4,3)))\n",
    "\n",
    "print('Array: \\n',a)\n",
    "\n",
    "print('Splits array into two:')\n",
    "for x in np.split(a,2):\n",
    "    print(x)\n",
    "                  \n",
    "print('Splits array into fours:')\n",
    "for x in np.split(a,4):\n",
    "    print(x)                 "
   ]
  },
  {
   "cell_type": "code",
   "execution_count": null,
   "id": "15188435-4262-4cf5-b54b-1805941e51e4",
   "metadata": {},
   "outputs": [],
   "source": [
    "#Adding and removing\n",
    "import numpy as np\n",
    "\n",
    "a=np.array(np.random.randint(10,size=(4,3)))\n",
    "#a=np.array([[0,1,2],[3,4,5],[6,7,8],[9,10,11]])\n",
    "\n",
    "print('Array: \\n',a)\n",
    "print('Resized version of array: \\n',np.resize(a,(1,6)))\n",
    "print('Insert values at the first index: \\n',np.insert(a,0,[7,7,7]))\n",
    "print('Deleted axes of array: \\n',np.delete(a,1,0))\n",
    "print('Appending to array: \\n',np.append(a,[7,7,7]))\n"
   ]
  },
  {
   "cell_type": "code",
   "execution_count": null,
   "id": "b768f341-196b-4540-a03a-4c7283d37dae",
   "metadata": {},
   "outputs": [],
   "source": [
    "#Format Numpy saving & loading\n",
    "import numpy as np\n",
    "\n",
    "a=np.array([[0,1,2],[3,4,5],[6,7,8],[9,10,11]])\n",
    "print('*Array Saved*',np.save('myArray.npy',a))\n",
    "\n",
    "b=np.load('myArray.npy')\n",
    "print('*Array loaded* \\n',b)"
   ]
  },
  {
   "cell_type": "code",
   "execution_count": null,
   "id": "c32c6f56-7846-4fae-9564-07b3a8f984c1",
   "metadata": {},
   "outputs": [],
   "source": [
    "#Format CSV saving & loading\n",
    "import numpy as np\n",
    "\n",
    "a=np.array(np.random.randint(10,size=(1000,3)))\n",
    "\n",
    "np.savetxt('myArray.csv',a)\n",
    "\n",
    "b=np.loadtxt('myArray.csv')\n",
    "#b=np.loadtxt('myArray.csv',delimiter=';')\n",
    "\n",
    "print(b)"
   ]
  }
 ],
 "metadata": {
  "kernelspec": {
   "display_name": "Python 3 (ipykernel)",
   "language": "python",
   "name": "python3"
  },
  "language_info": {
   "codemirror_mode": {
    "name": "ipython",
    "version": 3
   },
   "file_extension": ".py",
   "mimetype": "text/x-python",
   "name": "python",
   "nbconvert_exporter": "python",
   "pygments_lexer": "ipython3",
   "version": "3.10.1"
  }
 },
 "nbformat": 4,
 "nbformat_minor": 5
}
